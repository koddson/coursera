{
 "cells": [
  {
   "cell_type": "markdown",
   "metadata": {},
   "source": [
    "git status\n",
    "//to see changes\n",
    "\n",
    "git add \"filename\"\n",
    "//to add changed/new files\n",
    "    \n",
    "git status\n",
    "//changed/added file should be new color\n",
    "\n",
    "git commit -m 'A note on the new file'\n",
    "//\"commits\" the change\n",
    "\n",
    "git push\n",
    "//(yes, filename is excluded) adds to the remote depository"
   ]
  },
  {
   "cell_type": "code",
   "execution_count": null,
   "metadata": {},
   "outputs": [],
   "source": []
  }
 ],
 "metadata": {
  "kernelspec": {
   "display_name": "Python 3",
   "language": "python",
   "name": "python3"
  },
  "language_info": {
   "codemirror_mode": {
    "name": "ipython",
    "version": 3
   },
   "file_extension": ".py",
   "mimetype": "text/x-python",
   "name": "python",
   "nbconvert_exporter": "python",
   "pygments_lexer": "ipython3",
   "version": "3.7.4"
  }
 },
 "nbformat": 4,
 "nbformat_minor": 2
}
