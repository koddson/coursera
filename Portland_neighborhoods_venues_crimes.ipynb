{
 "cells": [
  {
   "cell_type": "markdown",
   "metadata": {},
   "source": [
    "# Clustering neighborhoods of Portland, Oregon by venues, crimes, and "
   ]
  },
  {
   "cell_type": "markdown",
   "metadata": {},
   "source": [
    "## Introduction"
   ]
  },
  {
   "cell_type": "markdown",
   "metadata": {},
   "source": [
    "Portland, Oregon has 95 neighborhoods, each with its own distinct character. This character is often reflected in the types of businesses present in the neighborhood.\n",
    "Another facet of a neighborhood's character can be found in its crime statistics. \n",
    "\n",
    "### Is there a relationship between the types & numbers of crimes committed in a neighbhorood and the types & numbers of venues in that neighborhood?\n",
    "\n",
    "Our hypothesis is that there is. Our goal is to explore, segment, and cluster the neighborhoods of Portland after incorporating the two societal heads of commerce and crime into one dataset.\n",
    "\n",
    "We propose that such a segmentation is useful for at least two groups (our stakeholders):\n",
    "1. City Planners: when determining whether or not a business license shall be granted at an address, we might pre-determine if the presence of such a business will increase the rate of a particular type of crime.\n",
    "2. Crime Fighters: when planning localized patrol-based enforcement, it is useful to know in advance what types of crimes might be more likely to be encountered; and if a particular enforcement strategy works in a certain neighborhood, perhaps it can be replicated in similar neighborhoods."
   ]
  },
  {
   "cell_type": "markdown",
   "metadata": {},
   "source": [
    "## Data"
   ]
  },
  {
   "cell_type": "markdown",
   "metadata": {},
   "source": [
    "Our data is of two types, and will be sourced from multiple locations:\n",
    "1. Neighborhoods: Wikipedia has a list of the recognized neighborhoods of Portland at https://en.wikipedia.org/wiki/Neighborhoods_of_Portland,_Oregon \n",
    "As this list does not include postal codes, we will need to visit the respective Wiki page for each neighborhood to scrape the latitude/longitude data. This step of the data wrangling will likely be the slowest.\n",
    "2. Crime Stats: The City of Portland Police Bureau publishes their data at https://www.portlandoregon.gov/police/71978\n",
    "We will use the crime data from 2019. The data includes incident location by neighborhood. \n",
    "3. Venues: The Foursquare \"Places\" API will be used to get the count of each type of venue by neighborhood."
   ]
  },
  {
   "cell_type": "code",
   "execution_count": null,
   "metadata": {},
   "outputs": [],
   "source": []
  }
 ],
 "metadata": {
  "kernelspec": {
   "display_name": "Python 3",
   "language": "python",
   "name": "python3"
  },
  "language_info": {
   "codemirror_mode": {
    "name": "ipython",
    "version": 3
   },
   "file_extension": ".py",
   "mimetype": "text/x-python",
   "name": "python",
   "nbconvert_exporter": "python",
   "pygments_lexer": "ipython3",
   "version": "3.7.4"
  }
 },
 "nbformat": 4,
 "nbformat_minor": 2
}
